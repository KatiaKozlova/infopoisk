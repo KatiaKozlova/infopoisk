{
  "nbformat": 4,
  "nbformat_minor": 0,
  "metadata": {
    "colab": {
      "provenance": [],
      "mount_file_id": "1BViT6S86uT1P_5gJRfSY9uCEvaiQ93AF",
      "authorship_tag": "ABX9TyNYnDnCt7g+9mvhGnPR+Ggp",
      "include_colab_link": true
    },
    "kernelspec": {
      "name": "python3",
      "display_name": "Python 3"
    },
    "language_info": {
      "name": "python"
    }
  },
  "cells": [
    {
      "cell_type": "markdown",
      "metadata": {
        "id": "view-in-github",
        "colab_type": "text"
      },
      "source": [
        "<a href=\"https://colab.research.google.com/github/KatiaKozlova/infopoisk/blob/main/project_(preprocessing).ipynb\" target=\"_parent\"><img src=\"https://colab.research.google.com/assets/colab-badge.svg\" alt=\"Open In Colab\"/></a>"
      ]
    },
    {
      "cell_type": "code",
      "execution_count": null,
      "metadata": {
        "id": "mOF2TntCcfg3"
      },
      "outputs": [],
      "source": [
        "import pandas"
      ]
    },
    {
      "cell_type": "code",
      "source": [
        "!wget 'https://raw.githubusercontent.com/KatiaKozlova/infopoisk/main/project/data/spotify_songs.csv'"
      ],
      "metadata": {
        "colab": {
          "base_uri": "https://localhost:8080/"
        },
        "id": "deVeoHAPjUc5",
        "outputId": "82cf630e-5ca9-49e3-94f9-e3ad3ff2f70f"
      },
      "execution_count": 3,
      "outputs": [
        {
          "output_type": "stream",
          "name": "stdout",
          "text": [
            "--2023-12-16 08:25:19--  https://raw.githubusercontent.com/KatiaKozlova/infopoisk/main/project/data/spotify_songs.csv\n",
            "Resolving raw.githubusercontent.com (raw.githubusercontent.com)... 185.199.109.133, 185.199.111.133, 185.199.108.133, ...\n",
            "Connecting to raw.githubusercontent.com (raw.githubusercontent.com)|185.199.109.133|:443... connected.\n",
            "HTTP request sent, awaiting response... 200 OK\n",
            "Length: 7971379 (7.6M) [text/plain]\n",
            "Saving to: ‘spotify_songs.csv’\n",
            "\n",
            "spotify_songs.csv   100%[===================>]   7.60M  --.-KB/s    in 0.09s   \n",
            "\n",
            "2023-12-16 08:25:19 (83.7 MB/s) - ‘spotify_songs.csv’ saved [7971379/7971379]\n",
            "\n"
          ]
        }
      ]
    },
    {
      "cell_type": "code",
      "source": [
        "spotify = pandas.read_csv('spotify_songs.csv')"
      ],
      "metadata": {
        "id": "_h1iig3RjA-p"
      },
      "execution_count": null,
      "outputs": []
    },
    {
      "cell_type": "code",
      "execution_count": null,
      "metadata": {
        "id": "vtKPn5V_cfg4"
      },
      "outputs": [],
      "source": [
        "tracks = spotify[['track_id', 'track_name', 'track_artist', 'track_popularity', 'duration_ms']].drop_duplicates().set_index('track_id')\n",
        "tracks.to_csv('tracks.csv')"
      ]
    },
    {
      "cell_type": "code",
      "execution_count": null,
      "metadata": {
        "id": "qiSg9oF7cfg4"
      },
      "outputs": [],
      "source": [
        "track_to_album = spotify[['track_id', 'track_album_id']].drop_duplicates()\n",
        "track_to_album.to_csv('track_to_album.csv')"
      ]
    },
    {
      "cell_type": "code",
      "execution_count": null,
      "metadata": {
        "id": "Il2WjnCicfg5"
      },
      "outputs": [],
      "source": [
        "albums = spotify[['track_album_id', 'track_album_name', 'track_album_release_date']].drop_duplicates().set_index('track_album_id')\n",
        "albums.to_csv('albums.csv')"
      ]
    },
    {
      "cell_type": "code",
      "execution_count": null,
      "metadata": {
        "id": "YaGRdoBwcfg5"
      },
      "outputs": [],
      "source": [
        "track_to_playlist = spotify[['track_id', 'playlist_id']].drop_duplicates()\n",
        "track_to_playlist.to_csv('track_to_playlist.csv')"
      ]
    },
    {
      "cell_type": "code",
      "execution_count": null,
      "metadata": {
        "id": "K1SB6ldycfg6"
      },
      "outputs": [],
      "source": [
        "playlists = spotify[['playlist_id', 'playlist_name', 'playlist_genre', 'playlist_subgenre']].drop_duplicates().set_index('playlist_id')\n",
        "playlists.to_csv('playlists.csv')"
      ]
    },
    {
      "cell_type": "code",
      "execution_count": null,
      "metadata": {
        "id": "fNDTdpgacfg6"
      },
      "outputs": [],
      "source": [
        "track_characteristics = spotify[['track_id', 'danceability', 'energy', 'key', 'loudness', 'mode', 'speechiness', 'acousticness', 'instrumentalness', 'liveness', 'valence', 'tempo']].drop_duplicates().set_index('track_id')\n",
        "track_characteristics.to_csv('track_characteristics.csv')"
      ]
    }
  ]
}
